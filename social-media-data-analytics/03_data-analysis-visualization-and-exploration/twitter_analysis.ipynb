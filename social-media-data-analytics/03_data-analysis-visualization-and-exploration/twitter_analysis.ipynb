{
 "cells": [
  {
   "cell_type": "code",
   "execution_count": 1,
   "metadata": {},
   "outputs": [],
   "source": [
    "import matplotlib.pyplot as plt\n",
    "import numpy as np\n",
    "import pandas as pd\n",
    "import statsmodels.api as sm"
   ]
  },
  {
   "cell_type": "code",
   "execution_count": 2,
   "metadata": {},
   "outputs": [
    {
     "data": {
      "text/html": [
       "<div>\n",
       "<style scoped>\n",
       "    .dataframe tbody tr th:only-of-type {\n",
       "        vertical-align: middle;\n",
       "    }\n",
       "\n",
       "    .dataframe tbody tr th {\n",
       "        vertical-align: top;\n",
       "    }\n",
       "\n",
       "    .dataframe thead th {\n",
       "        text-align: right;\n",
       "    }\n",
       "</style>\n",
       "<table border=\"1\" class=\"dataframe\">\n",
       "  <thead>\n",
       "    <tr style=\"text-align: right;\">\n",
       "      <th></th>\n",
       "      <th>created</th>\n",
       "      <th>text</th>\n",
       "      <th>retwc</th>\n",
       "      <th>hashtag</th>\n",
       "      <th>followers</th>\n",
       "      <th>friends</th>\n",
       "    </tr>\n",
       "  </thead>\n",
       "  <tbody>\n",
       "    <tr>\n",
       "      <th>0</th>\n",
       "      <td>2020-12-27 13:47:49</td>\n",
       "      <td>b\"RT @angelovalidiya: Asymptomatic ie healthy ...</td>\n",
       "      <td>200</td>\n",
       "      <td>COVID19</td>\n",
       "      <td>486</td>\n",
       "      <td>807</td>\n",
       "    </tr>\n",
       "    <tr>\n",
       "      <th>1</th>\n",
       "      <td>2020-12-27 13:47:49</td>\n",
       "      <td>b'@PoliceUg Uganda is the only country in the ...</td>\n",
       "      <td>0</td>\n",
       "      <td>None</td>\n",
       "      <td>10</td>\n",
       "      <td>13</td>\n",
       "    </tr>\n",
       "    <tr>\n",
       "      <th>2</th>\n",
       "      <td>2020-12-27 13:47:49</td>\n",
       "      <td>b'@thehill \\xe2\\x9a\\xa1\\xef\\xb8\\x8f Sunday, De...</td>\n",
       "      <td>0</td>\n",
       "      <td>Republicans</td>\n",
       "      <td>12683</td>\n",
       "      <td>8124</td>\n",
       "    </tr>\n",
       "    <tr>\n",
       "      <th>3</th>\n",
       "      <td>2020-12-27 13:47:49</td>\n",
       "      <td>b'RT @CentrulI: \\xf0\\x9f\\x87\\xaa\\xf0\\x9f\\x87\\x...</td>\n",
       "      <td>3</td>\n",
       "      <td>COVID19</td>\n",
       "      <td>314</td>\n",
       "      <td>1686</td>\n",
       "    </tr>\n",
       "    <tr>\n",
       "      <th>4</th>\n",
       "      <td>2020-12-27 13:47:48</td>\n",
       "      <td>b'RT @Craig_A_Spencer: For everyone dismissing...</td>\n",
       "      <td>3628</td>\n",
       "      <td>COVID19</td>\n",
       "      <td>12</td>\n",
       "      <td>183</td>\n",
       "    </tr>\n",
       "  </tbody>\n",
       "</table>\n",
       "</div>"
      ],
      "text/plain": [
       "               created                                               text  \\\n",
       "0  2020-12-27 13:47:49  b\"RT @angelovalidiya: Asymptomatic ie healthy ...   \n",
       "1  2020-12-27 13:47:49  b'@PoliceUg Uganda is the only country in the ...   \n",
       "2  2020-12-27 13:47:49  b'@thehill \\xe2\\x9a\\xa1\\xef\\xb8\\x8f Sunday, De...   \n",
       "3  2020-12-27 13:47:49  b'RT @CentrulI: \\xf0\\x9f\\x87\\xaa\\xf0\\x9f\\x87\\x...   \n",
       "4  2020-12-27 13:47:48  b'RT @Craig_A_Spencer: For everyone dismissing...   \n",
       "\n",
       "   retwc      hashtag  followers  friends  \n",
       "0    200      COVID19        486      807  \n",
       "1      0         None         10       13  \n",
       "2      0  Republicans      12683     8124  \n",
       "3      3      COVID19        314     1686  \n",
       "4   3628      COVID19         12      183  "
      ]
     },
     "execution_count": 2,
     "metadata": {},
     "output_type": "execute_result"
    }
   ],
   "source": [
    "twitter_data = pd.read_csv(\"result.csv\")\n",
    "twitter_data.head()"
   ]
  },
  {
   "cell_type": "code",
   "execution_count": 3,
   "metadata": {},
   "outputs": [
    {
     "data": {
      "text/plain": [
       "<AxesSubplot:>"
      ]
     },
     "execution_count": 3,
     "metadata": {},
     "output_type": "execute_result"
    },
    {
     "data": {
      "image/png": "[encoded data removed]",
      "text/plain": [
       "<Figure size 432x288 with 1 Axes>"
      ]
     },
     "metadata": {
      "needs_background": "light"
     },
     "output_type": "display_data"
    }
   ],
   "source": [
    "twitter_data.friends.hist(grid=False)"
   ]
  },
  {
   "cell_type": "code",
   "execution_count": 4,
   "metadata": {},
   "outputs": [
    {
     "data": {
      "text/plain": [
       "<matplotlib.collections.PathCollection at 0x7fa197c4a1c0>"
      ]
     },
     "execution_count": 4,
     "metadata": {},
     "output_type": "execute_result"
    },
    {
     "data": {
      "image/png": "[encoded data removed]",
      "text/plain": [
       "<Figure size 432x288 with 1 Axes>"
      ]
     },
     "metadata": {
      "needs_background": "light"
     },
     "output_type": "display_data"
    }
   ],
   "source": [
    "plt.scatter(twitter_data.retwc, twitter_data.followers)"
   ]
  },
  {
   "cell_type": "code",
   "execution_count": 5,
   "metadata": {},
   "outputs": [
    {
     "data": {
      "text/html": [
       "<div>\n",
       "<style scoped>\n",
       "    .dataframe tbody tr th:only-of-type {\n",
       "        vertical-align: middle;\n",
       "    }\n",
       "\n",
       "    .dataframe tbody tr th {\n",
       "        vertical-align: top;\n",
       "    }\n",
       "\n",
       "    .dataframe thead th {\n",
       "        text-align: right;\n",
       "    }\n",
       "</style>\n",
       "<table border=\"1\" class=\"dataframe\">\n",
       "  <thead>\n",
       "    <tr style=\"text-align: right;\">\n",
       "      <th></th>\n",
       "      <th>retwc</th>\n",
       "      <th>followers</th>\n",
       "      <th>friends</th>\n",
       "    </tr>\n",
       "  </thead>\n",
       "  <tbody>\n",
       "    <tr>\n",
       "      <th>retwc</th>\n",
       "      <td>1.000000</td>\n",
       "      <td>-0.104148</td>\n",
       "      <td>-0.159657</td>\n",
       "    </tr>\n",
       "    <tr>\n",
       "      <th>followers</th>\n",
       "      <td>-0.104148</td>\n",
       "      <td>1.000000</td>\n",
       "      <td>0.119278</td>\n",
       "    </tr>\n",
       "    <tr>\n",
       "      <th>friends</th>\n",
       "      <td>-0.159657</td>\n",
       "      <td>0.119278</td>\n",
       "      <td>1.000000</td>\n",
       "    </tr>\n",
       "  </tbody>\n",
       "</table>\n",
       "</div>"
      ],
      "text/plain": [
       "              retwc  followers   friends\n",
       "retwc      1.000000  -0.104148 -0.159657\n",
       "followers -0.104148   1.000000  0.119278\n",
       "friends   -0.159657   0.119278  1.000000"
      ]
     },
     "execution_count": 5,
     "metadata": {},
     "output_type": "execute_result"
    }
   ],
   "source": [
    "twitter_data.corr()"
   ]
  },
  {
   "cell_type": "code",
   "execution_count": 6,
   "metadata": {},
   "outputs": [
    {
     "data": {
      "text/html": [
       "<table class=\"simpletable\">\n",
       "<caption>OLS Regression Results</caption>\n",
       "<tr>\n",
       "  <th>Dep. Variable:</th>        <td>followers</td>    <th>  R-squared:         </th> <td>   0.011</td>\n",
       "</tr>\n",
       "<tr>\n",
       "  <th>Model:</th>                   <td>OLS</td>       <th>  Adj. R-squared:    </th> <td>  -0.010</td>\n",
       "</tr>\n",
       "<tr>\n",
       "  <th>Method:</th>             <td>Least Squares</td>  <th>  F-statistic:       </th> <td>  0.5264</td>\n",
       "</tr>\n",
       "<tr>\n",
       "  <th>Date:</th>             <td>Mon, 04 Jan 2021</td> <th>  Prob (F-statistic):</th>  <td> 0.472</td> \n",
       "</tr>\n",
       "<tr>\n",
       "  <th>Time:</th>                 <td>12:28:23</td>     <th>  Log-Likelihood:    </th> <td> -538.52</td>\n",
       "</tr>\n",
       "<tr>\n",
       "  <th>No. Observations:</th>      <td>    50</td>      <th>  AIC:               </th> <td>   1081.</td>\n",
       "</tr>\n",
       "<tr>\n",
       "  <th>Df Residuals:</th>          <td>    48</td>      <th>  BIC:               </th> <td>   1085.</td>\n",
       "</tr>\n",
       "<tr>\n",
       "  <th>Df Model:</th>              <td>     1</td>      <th>                     </th>     <td> </td>   \n",
       "</tr>\n",
       "<tr>\n",
       "  <th>Covariance Type:</th>      <td>nonrobust</td>    <th>                     </th>     <td> </td>   \n",
       "</tr>\n",
       "</table>\n",
       "<table class=\"simpletable\">\n",
       "<tr>\n",
       "    <td></td>       <th>coef</th>     <th>std err</th>      <th>t</th>      <th>P>|t|</th>  <th>[0.025</th>    <th>0.975]</th>  \n",
       "</tr>\n",
       "<tr>\n",
       "  <th>const</th> <td> 3484.9001</td> <td> 1851.478</td> <td>    1.882</td> <td> 0.066</td> <td> -237.747</td> <td> 7207.547</td>\n",
       "</tr>\n",
       "<tr>\n",
       "  <th>retwc</th> <td>   -0.6792</td> <td>    0.936</td> <td>   -0.726</td> <td> 0.472</td> <td>   -2.562</td> <td>    1.203</td>\n",
       "</tr>\n",
       "</table>\n",
       "<table class=\"simpletable\">\n",
       "<tr>\n",
       "  <th>Omnibus:</th>       <td>106.916</td> <th>  Durbin-Watson:     </th> <td>   1.936</td>\n",
       "</tr>\n",
       "<tr>\n",
       "  <th>Prob(Omnibus):</th> <td> 0.000</td>  <th>  Jarque-Bera (JB):  </th> <td>3740.397</td>\n",
       "</tr>\n",
       "<tr>\n",
       "  <th>Skew:</th>          <td> 6.362</td>  <th>  Prob(JB):          </th> <td>    0.00</td>\n",
       "</tr>\n",
       "<tr>\n",
       "  <th>Kurtosis:</th>      <td>43.417</td>  <th>  Cond. No.          </th> <td>2.20e+03</td>\n",
       "</tr>\n",
       "</table><br/><br/>Notes:<br/>[1] Standard Errors assume that the covariance matrix of the errors is correctly specified.<br/>[2] The condition number is large, 2.2e+03. This might indicate that there are<br/>strong multicollinearity or other numerical problems."
      ],
      "text/plain": [
       "<class 'statsmodels.iolib.summary.Summary'>\n",
       "\"\"\"\n",
       "                            OLS Regression Results                            \n",
       "==============================================================================\n",
       "Dep. Variable:              followers   R-squared:                       0.011\n",
       "Model:                            OLS   Adj. R-squared:                 -0.010\n",
       "Method:                 Least Squares   F-statistic:                    0.5264\n",
       "Date:                Mon, 04 Jan 2021   Prob (F-statistic):              0.472\n",
       "Time:                        12:28:23   Log-Likelihood:                -538.52\n",
       "No. Observations:                  50   AIC:                             1081.\n",
       "Df Residuals:                      48   BIC:                             1085.\n",
       "Df Model:                           1                                         \n",
       "Covariance Type:            nonrobust                                         \n",
       "==============================================================================\n",
       "                 coef    std err          t      P>|t|      [0.025      0.975]\n",
       "------------------------------------------------------------------------------\n",
       "const       3484.9001   1851.478      1.882      0.066    -237.747    7207.547\n",
       "retwc         -0.6792      0.936     -0.726      0.472      -2.562       1.203\n",
       "==============================================================================\n",
       "Omnibus:                      106.916   Durbin-Watson:                   1.936\n",
       "Prob(Omnibus):                  0.000   Jarque-Bera (JB):             3740.397\n",
       "Skew:                           6.362   Prob(JB):                         0.00\n",
       "Kurtosis:                      43.417   Cond. No.                     2.20e+03\n",
       "==============================================================================\n",
       "\n",
       "Notes:\n",
       "[1] Standard Errors assume that the covariance matrix of the errors is correctly specified.\n",
       "[2] The condition number is large, 2.2e+03. This might indicate that there are\n",
       "strong multicollinearity or other numerical problems.\n",
       "\"\"\""
      ]
     },
     "execution_count": 6,
     "metadata": {},
     "output_type": "execute_result"
    }
   ],
   "source": [
    "X, y = twitter_data.retwc, twitter_data.followers\n",
    "X = sm.add_constant(X)\n",
    "lr_model = sm.OLS(y, X).fit()\n",
    "lr_model.summary()"
   ]
  },
  {
   "cell_type": "code",
   "execution_count": 7,
   "metadata": {},
   "outputs": [
    {
     "data": {
      "text/plain": [
       "[<matplotlib.lines.Line2D at 0x7fa197b78d30>]"
      ]
     },
     "execution_count": 7,
     "metadata": {},
     "output_type": "execute_result"
    },
    {
     "data": {
      "image/png": "[encoded data removed]",
      "text/plain": [
       "<Figure size 432x288 with 1 Axes>"
      ]
     },
     "metadata": {
      "needs_background": "light"
     },
     "output_type": "display_data"
    }
   ],
   "source": [
    "X_prime = np.linspace(X.retwc.min(), X.retwc.max(), 100)\n",
    "X_prime = sm.add_constant(X_prime)\n",
    "\n",
    "y_hat = lr_model.predict(X_prime)\n",
    "plt.scatter(X.retwc, y)\n",
    "plt.xlabel(\"Retweet Count\")\n",
    "plt.ylabel(\"Follower Count\")\n",
    "plt.plot(X_prime[:, 1], y_hat)"
   ]
  },
  {
   "cell_type": "code",
   "execution_count": 8,
   "metadata": {},
   "outputs": [],
   "source": [
    "from textblob import TextBlob"
   ]
  },
  {
   "cell_type": "code",
   "execution_count": 9,
   "metadata": {},
   "outputs": [],
   "source": [
    "twitter_data[\"polarity\"] = [TextBlob(text).polarity for text in twitter_data.text]\n",
    "twitter_data[\"subjectivity\"] = [\n",
    "    TextBlob(text).subjectivity for text in twitter_data.text\n",
    "]"
   ]
  },
  {
   "cell_type": "code",
   "execution_count": 10,
   "metadata": {},
   "outputs": [
    {
     "data": {
      "text/html": [
       "<div>\n",
       "<style scoped>\n",
       "    .dataframe tbody tr th:only-of-type {\n",
       "        vertical-align: middle;\n",
       "    }\n",
       "\n",
       "    .dataframe tbody tr th {\n",
       "        vertical-align: top;\n",
       "    }\n",
       "\n",
       "    .dataframe thead th {\n",
       "        text-align: right;\n",
       "    }\n",
       "</style>\n",
       "<table border=\"1\" class=\"dataframe\">\n",
       "  <thead>\n",
       "    <tr style=\"text-align: right;\">\n",
       "      <th></th>\n",
       "      <th>created</th>\n",
       "      <th>text</th>\n",
       "      <th>retwc</th>\n",
       "      <th>hashtag</th>\n",
       "      <th>followers</th>\n",
       "      <th>friends</th>\n",
       "      <th>polarity</th>\n",
       "      <th>subjectivity</th>\n",
       "    </tr>\n",
       "  </thead>\n",
       "  <tbody>\n",
       "    <tr>\n",
       "      <th>0</th>\n",
       "      <td>2020-12-27 13:47:49</td>\n",
       "      <td>b\"RT @angelovalidiya: Asymptomatic ie healthy ...</td>\n",
       "      <td>200</td>\n",
       "      <td>COVID19</td>\n",
       "      <td>486</td>\n",
       "      <td>807</td>\n",
       "      <td>0.500000</td>\n",
       "      <td>0.500000</td>\n",
       "    </tr>\n",
       "    <tr>\n",
       "      <th>1</th>\n",
       "      <td>2020-12-27 13:47:49</td>\n",
       "      <td>b'@PoliceUg Uganda is the only country in the ...</td>\n",
       "      <td>0</td>\n",
       "      <td>None</td>\n",
       "      <td>10</td>\n",
       "      <td>13</td>\n",
       "      <td>0.068182</td>\n",
       "      <td>0.750000</td>\n",
       "    </tr>\n",
       "    <tr>\n",
       "      <th>2</th>\n",
       "      <td>2020-12-27 13:47:49</td>\n",
       "      <td>b'@thehill \\xe2\\x9a\\xa1\\xef\\xb8\\x8f Sunday, De...</td>\n",
       "      <td>0</td>\n",
       "      <td>Republicans</td>\n",
       "      <td>12683</td>\n",
       "      <td>8124</td>\n",
       "      <td>0.000000</td>\n",
       "      <td>0.000000</td>\n",
       "    </tr>\n",
       "    <tr>\n",
       "      <th>3</th>\n",
       "      <td>2020-12-27 13:47:49</td>\n",
       "      <td>b'RT @CentrulI: \\xf0\\x9f\\x87\\xaa\\xf0\\x9f\\x87\\x...</td>\n",
       "      <td>3</td>\n",
       "      <td>COVID19</td>\n",
       "      <td>314</td>\n",
       "      <td>1686</td>\n",
       "      <td>0.250000</td>\n",
       "      <td>0.333333</td>\n",
       "    </tr>\n",
       "    <tr>\n",
       "      <th>4</th>\n",
       "      <td>2020-12-27 13:47:48</td>\n",
       "      <td>b'RT @Craig_A_Spencer: For everyone dismissing...</td>\n",
       "      <td>3628</td>\n",
       "      <td>COVID19</td>\n",
       "      <td>12</td>\n",
       "      <td>183</td>\n",
       "      <td>0.000000</td>\n",
       "      <td>0.066667</td>\n",
       "    </tr>\n",
       "  </tbody>\n",
       "</table>\n",
       "</div>"
      ],
      "text/plain": [
       "               created                                               text  \\\n",
       "0  2020-12-27 13:47:49  b\"RT @angelovalidiya: Asymptomatic ie healthy ...   \n",
       "1  2020-12-27 13:47:49  b'@PoliceUg Uganda is the only country in the ...   \n",
       "2  2020-12-27 13:47:49  b'@thehill \\xe2\\x9a\\xa1\\xef\\xb8\\x8f Sunday, De...   \n",
       "3  2020-12-27 13:47:49  b'RT @CentrulI: \\xf0\\x9f\\x87\\xaa\\xf0\\x9f\\x87\\x...   \n",
       "4  2020-12-27 13:47:48  b'RT @Craig_A_Spencer: For everyone dismissing...   \n",
       "\n",
       "   retwc      hashtag  followers  friends  polarity  subjectivity  \n",
       "0    200      COVID19        486      807  0.500000      0.500000  \n",
       "1      0         None         10       13  0.068182      0.750000  \n",
       "2      0  Republicans      12683     8124  0.000000      0.000000  \n",
       "3      3      COVID19        314     1686  0.250000      0.333333  \n",
       "4   3628      COVID19         12      183  0.000000      0.066667  "
      ]
     },
     "execution_count": 10,
     "metadata": {},
     "output_type": "execute_result"
    }
   ],
   "source": [
    "twitter_data.head()"
   ]
  },
  {
   "cell_type": "code",
   "execution_count": 11,
   "metadata": {},
   "outputs": [
    {
     "data": {
      "text/plain": [
       "<matplotlib.collections.PathCollection at 0x7fa1930e82e0>"
      ]
     },
     "execution_count": 11,
     "metadata": {},
     "output_type": "execute_result"
    },
    {
     "data": {
      "image/png": "[encoded data removed]",
      "text/plain": [
       "<Figure size 432x288 with 1 Axes>"
      ]
     },
     "metadata": {
      "needs_background": "light"
     },
     "output_type": "display_data"
    }
   ],
   "source": [
    "plt.scatter(twitter_data.retwc, twitter_data.polarity)"
   ]
  },
  {
   "cell_type": "code",
   "execution_count": 12,
   "metadata": {},
   "outputs": [
    {
     "data": {
      "text/html": [
       "<div>\n",
       "<style scoped>\n",
       "    .dataframe tbody tr th:only-of-type {\n",
       "        vertical-align: middle;\n",
       "    }\n",
       "\n",
       "    .dataframe tbody tr th {\n",
       "        vertical-align: top;\n",
       "    }\n",
       "\n",
       "    .dataframe thead th {\n",
       "        text-align: right;\n",
       "    }\n",
       "</style>\n",
       "<table border=\"1\" class=\"dataframe\">\n",
       "  <thead>\n",
       "    <tr style=\"text-align: right;\">\n",
       "      <th></th>\n",
       "      <th>retwc</th>\n",
       "      <th>followers</th>\n",
       "      <th>friends</th>\n",
       "      <th>polarity</th>\n",
       "      <th>subjectivity</th>\n",
       "    </tr>\n",
       "  </thead>\n",
       "  <tbody>\n",
       "    <tr>\n",
       "      <th>retwc</th>\n",
       "      <td>1.000000</td>\n",
       "      <td>-0.104148</td>\n",
       "      <td>-0.159657</td>\n",
       "      <td>0.025557</td>\n",
       "      <td>-0.225283</td>\n",
       "    </tr>\n",
       "    <tr>\n",
       "      <th>followers</th>\n",
       "      <td>-0.104148</td>\n",
       "      <td>1.000000</td>\n",
       "      <td>0.119278</td>\n",
       "      <td>-0.102120</td>\n",
       "      <td>-0.213103</td>\n",
       "    </tr>\n",
       "    <tr>\n",
       "      <th>friends</th>\n",
       "      <td>-0.159657</td>\n",
       "      <td>0.119278</td>\n",
       "      <td>1.000000</td>\n",
       "      <td>-0.173417</td>\n",
       "      <td>-0.131691</td>\n",
       "    </tr>\n",
       "    <tr>\n",
       "      <th>polarity</th>\n",
       "      <td>0.025557</td>\n",
       "      <td>-0.102120</td>\n",
       "      <td>-0.173417</td>\n",
       "      <td>1.000000</td>\n",
       "      <td>0.477522</td>\n",
       "    </tr>\n",
       "    <tr>\n",
       "      <th>subjectivity</th>\n",
       "      <td>-0.225283</td>\n",
       "      <td>-0.213103</td>\n",
       "      <td>-0.131691</td>\n",
       "      <td>0.477522</td>\n",
       "      <td>1.000000</td>\n",
       "    </tr>\n",
       "  </tbody>\n",
       "</table>\n",
       "</div>"
      ],
      "text/plain": [
       "                 retwc  followers   friends  polarity  subjectivity\n",
       "retwc         1.000000  -0.104148 -0.159657  0.025557     -0.225283\n",
       "followers    -0.104148   1.000000  0.119278 -0.102120     -0.213103\n",
       "friends      -0.159657   0.119278  1.000000 -0.173417     -0.131691\n",
       "polarity      0.025557  -0.102120 -0.173417  1.000000      0.477522\n",
       "subjectivity -0.225283  -0.213103 -0.131691  0.477522      1.000000"
      ]
     },
     "execution_count": 12,
     "metadata": {},
     "output_type": "execute_result"
    }
   ],
   "source": [
    "twitter_data.corr()"
   ]
  }
 ],
 "metadata": {
  "kernelspec": {
   "display_name": "Python 3",
   "language": "python",
   "name": "python3"
  },
  "language_info": {
   "codemirror_mode": {
    "name": "ipython",
    "version": 3
   },
   "file_extension": ".py",
   "mimetype": "text/x-python",
   "name": "python",
   "nbconvert_exporter": "python",
   "pygments_lexer": "ipython3",
   "version": "3.8.6"
  },
  "widgets": {
   "application/vnd.jupyter.widget-state+json": {
    "state": {},
    "version_major": 2,
    "version_minor": 0
   }
  }
 },
 "nbformat": 4,
 "nbformat_minor": 4
}
